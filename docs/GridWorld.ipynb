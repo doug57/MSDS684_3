{
 "cells": [
  {
   "cell_type": "code",
   "execution_count": 1,
   "metadata": {},
   "outputs": [
    {
     "data": {
      "text/html": [
       "<style>\n",
       "  table {margin-left: 0 !important;}\n",
       "</style>\n"
      ],
      "text/plain": [
       "<IPython.core.display.HTML object>"
      ]
     },
     "metadata": {},
     "output_type": "display_data"
    }
   ],
   "source": [
    "%%html\n",
    "<style>\n",
    "  table {margin-left: 0 !important;}\n",
    "</style>"
   ]
  },
  {
   "cell_type": "markdown",
   "metadata": {},
   "source": [
    "### Node Class for GridWorld\n",
    "\n",
    "|  | Class Variable | Type | Description |\n",
    "|--|:---------------|:-----|:------------|\n",
    "| 1| state | tuple | State (Row, Coolumn) index |\n",
    "| 2| value | scalar | value for the node/state |\n",
    "| 3| is_terminal | boolean | flag for terminal state(s) |\n",
    "| 4| is_barrier | boolean | flag for barrier state(s) |\n",
    "| 5| left | scalar | reward for moving left (equals None if invalid) |\n",
    "| 6| right | scalar | reward for moving right (equals None if invalid) |\n",
    "| 7| down | scalar | reward for moving down (equals None if invalid) |\n",
    "| 8| up | scalar | reward for moving up (equals None if invalid) |\n",
    "\n",
    "\n",
    "|  | Class Function | Description | Input | Output |\n",
    "|--|:---------------|:------------|:------|:-------|\n",
    "| 1| __init__ | initializes all values to None or False | | |\n",
    "| 2| set_state | sets state tuple| (i,j) | |\n",
    "| 3| get_state | gets state tuple| | (i,j) |\n",
    "| 4| set_value | sets value of node | value | |\n",
    "| 5| get_value | gets value of node | | value|\n",
    "| 6| set_is_terminal | set True if terminal state | True or False| |\n",
    "| 7| get_is_terminal | get whether state is terminal or not | | True or False|\n",
    "| 8| set_is_barrier | set True if barrier state | Truen or False | |\n",
    "| 9| get_is_barrier | get whether stats is barrier or not | | True or False |\n",
    "|10| set_left | sets reward for moving left (None if invalid) | reward | |\n",
    "|11| get_left | gets reward for movin left (None if invalue)| | reward |\n",
    "|12| set_right | sets reward for moving right (None if invalid) | reward | |\n",
    "|13| get_right | gets reward for moving right (None if invalid) | | reward |\n",
    "|14| set_down | sets reward for moving down (None if invalid) | reward | |\n",
    "|15| get_down | gets reward for moving down (None if invalid) | | reward |\n",
    "|16| set_up | sets reward for moving up (None if invalid) | reward | |\n",
    "|17| get_up | gets reward for moving up (None if invalid) | | reward |\n"
   ]
  },
  {
   "cell_type": "markdown",
   "metadata": {},
   "source": [
    "### Grid Class for GridWorld\n",
    "\n",
    "|  | Class Variable | Type | Description |\n",
    "|--|:---------------|:-----|:------------|\n",
    "| 1| M | scalar | number of rows in the gridworld problem |\n",
    "| 2| N | scalar | number of columns in the gridworld problem |\n",
    "| 3| grid | matrix - dim MxN | matrix of nodes in the gridworld node |\n",
    "\n",
    "\n",
    "|  | Class Function | Description | Input | Output |\n",
    "|--|:---------------|:------------|:------|:-------|\n",
    "| 1| __init__ | creates two dimentionsal matrix of nodes | M, N | grid matrix of nodes |\n",
    "| -| __iter__ | iterator for grid | | |\n",
    "| -| __next__ | next function for iterator | | |\n",
    "| 2| print_grid_state | prints state variables for all nodes in grid | grid | |\n",
    "| 3| print_grid_rewards | prints rewards for all nodes in grid | grid | |\n",
    "| 4| get_node | returns node object a state | state | node |\n",
    "| 5| init_rewards | sets all rewards to specified value in grid - used to initialize rewards, handles interior nodes, boundary nodes, and corners nodes  | grid | |\n",
    "| 6| is_valid_node_index | returns whether a grid index pair is valid state | i, j | True/False |\n",
    "| 7| is_barrier | returns whether a grid state cooresponds to a barrier state | state | True/False |\n",
    "| 8| set_barrier | sets a barrier state, sets rewards to None, sets adjacent nodes rewards that would result in moving to the state to None | state | |\n",
    "| 9| is_terminal | returns whether a grid state cooresponds to a terminal state | state | True/False |\n",
    "|10| set_terminal | sets a terminal state, sets all rewards to None | state | |\n",
    "|11| set_reward | sets a reward at a node for an action | state, action, reward | |\n",
    "|12| valid_decisions | lists valid decisions at a state | state | list of valid actions (left, right, up, down) |\n",
    "|13| valid_decisions_and_rewards | returns dictionary of actions and rewards at a state | state | action/reward dictionary |\n",
    "|14| set_value | sets the value at a state | state, value | |\n",
    "|15| get_value | gets the value of a state | state | value |\n",
    "|16| get_reward_for_action | gets reward for a selected action | state, action | reward |\n",
    "|17| get_value_at_destination | gets value at destination state for an action | state, action | value |\n",
    "|18| print_grid_states_decisions | prints grid state and decisions | grid | |\n",
    "|19| print_values | prints values in the grid | grid | |\n",
    "|20| print_policy | prints policy (technically not part of grid) | policy | |\n"
   ]
  },
  {
   "cell_type": "code",
   "execution_count": null,
   "metadata": {},
   "outputs": [],
   "source": []
  }
 ],
 "metadata": {
  "kernelspec": {
   "display_name": "Python 3 (ipykernel)",
   "language": "python",
   "name": "python3"
  },
  "language_info": {
   "codemirror_mode": {
    "name": "ipython",
    "version": 3
   },
   "file_extension": ".py",
   "mimetype": "text/x-python",
   "name": "python",
   "nbconvert_exporter": "python",
   "pygments_lexer": "ipython3",
   "version": "3.8.12"
  }
 },
 "nbformat": 4,
 "nbformat_minor": 4
}
